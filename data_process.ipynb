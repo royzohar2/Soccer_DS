{
 "cells": [
  {
   "cell_type": "code",
   "execution_count": 38,
   "metadata": {},
   "outputs": [],
   "source": [
    "#pip install statsbombpy\n",
    "import json\n",
    "from statsbombpy import sb"
   ]
  },
  {
   "cell_type": "code",
   "execution_count": 40,
   "metadata": {},
   "outputs": [],
   "source": [
    "def process(list_of_dicts):\n",
    "    with open(\"data.json\", \"w\") as f:\n",
    "        json.dump(list_of_dict ,f ,indent =4)\n",
    "\n",
    "    # here we add function from utils\n",
    "    "
   ]
  },
  {
   "cell_type": "code",
   "execution_count": 41,
   "metadata": {},
   "outputs": [
    {
     "name": "stderr",
     "output_type": "stream",
     "text": [
      "C:\\Users\\royzo\\AppData\\Roaming\\Python\\Python39\\site-packages\\statsbombpy\\api_client.py:21: NoAuthWarning: credentials were not supplied. open data access only\n",
      "  warnings.warn(\n",
      "C:\\Users\\royzo\\AppData\\Roaming\\Python\\Python39\\site-packages\\statsbombpy\\api_client.py:21: NoAuthWarning: credentials were not supplied. open data access only\n",
      "  warnings.warn(\n"
     ]
    }
   ],
   "source": [
    "competitions = sb.competitions()\n",
    "for indexC, rowC in competitions.iterrows():\n",
    "    matches = sb.matches(competition_id=rowC[\"competition_id\"], season_id=rowC[\"season_id\"])\n",
    "    for indexM, rowM in matches.iterrows():\n",
    "        match_id = rowM['match_id']\n",
    "        events = sb.events(match_id=match_id ,  fmt=\"json\")\n",
    "        list_of_dict =[]\n",
    "        for d in x.keys():\n",
    "            list_of_dict.append(x[d])\n",
    "        process(list_of_dict)\n",
    "        break\n",
    "    break\n"
   ]
  },
  {
   "cell_type": "code",
   "execution_count": null,
   "metadata": {},
   "outputs": [],
   "source": []
  }
 ],
 "metadata": {
  "kernelspec": {
   "display_name": "base",
   "language": "python",
   "name": "python3"
  },
  "language_info": {
   "codemirror_mode": {
    "name": "ipython",
    "version": 3
   },
   "file_extension": ".py",
   "mimetype": "text/x-python",
   "name": "python",
   "nbconvert_exporter": "python",
   "pygments_lexer": "ipython3",
   "version": "3.9.13"
  },
  "orig_nbformat": 4
 },
 "nbformat": 4,
 "nbformat_minor": 2
}
