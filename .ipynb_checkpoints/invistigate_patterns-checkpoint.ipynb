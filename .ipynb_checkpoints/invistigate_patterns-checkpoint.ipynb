{
 "cells": [
  {
   "cell_type": "code",
   "execution_count": 152,
   "id": "03363aca-6860-446b-9131-03bb7e126cdf",
   "metadata": {
    "tags": []
   },
   "outputs": [],
   "source": [
    "import json\n",
    "import pandas as pd\n",
    "import seaborn as sns\n",
    "import matplotlib.pyplot as plt\n",
    "import warnings\n",
    "warnings.filterwarnings('ignore')\n",
    "from pandas import json_normalize\n",
    "from mplsoccer import Pitch\n"
   ]
  },
  {
   "cell_type": "code",
   "execution_count": 45,
   "id": "dc715251-0480-47e9-92e2-ff595768b4ef",
   "metadata": {
    "tags": []
   },
   "outputs": [],
   "source": [
    "events_json = open('data.json')\n",
    "events_json = json.load(events_json)\n",
    "events = json_normalize(events_json)"
   ]
  },
  {
   "cell_type": "code",
   "execution_count": 59,
   "id": "97a3b0b2-ef6d-4261-af1f-f1838a1b8495",
   "metadata": {
    "tags": []
   },
   "outputs": [],
   "source": [
    "columns = ['index', 'type.name', 'play_pattern.name', 'team.name', 'possession_team.name']"
   ]
  },
  {
   "cell_type": "code",
   "execution_count": 56,
   "id": "d2e3257a-29e0-44d5-add6-db6c640f18b5",
   "metadata": {
    "tags": []
   },
   "outputs": [],
   "source": [
    "def find_col(df, text):\n",
    "    for column in df.columns:\n",
    "        if text in column.lower():\n",
    "            print(column)"
   ]
  },
  {
   "cell_type": "code",
   "execution_count": 60,
   "id": "2a3c087e-561f-4300-9c94-a1c1b444cf95",
   "metadata": {
    "tags": []
   },
   "outputs": [
    {
     "name": "stdout",
     "output_type": "stream",
     "text": [
      "possession\n",
      "possession_team.id\n",
      "possession_team.name\n"
     ]
    }
   ],
   "source": [
    "find_col(events, 'poss')"
   ]
  },
  {
   "cell_type": "code",
   "execution_count": 4,
   "id": "a599c3da-3da4-4651-b6a8-6352efd2d247",
   "metadata": {
    "tags": []
   },
   "outputs": [],
   "source": [
    "regular_play_shots = []\n",
    "for event in events_json:\n",
    "    if (event['type']['name'] == 'Shot') and (event['play_pattern']['name'] == 'Regular Play'):\n",
    "        regular_play_shots.append(event)"
   ]
  },
  {
   "cell_type": "code",
   "execution_count": 98,
   "id": "4e031b24-fb9d-4ad9-85ae-1b535106cd94",
   "metadata": {
    "tags": []
   },
   "outputs": [],
   "source": [
    "attacks = []\n",
    "for shot in regular_play_shots:\n",
    "    flag = True\n",
    "    index = shot['index'] - 2\n",
    "    attacking_team = shot['possession_team']['name']\n",
    "    while flag:\n",
    "        event_to_check = events_json[index]\n",
    "        if (event_to_check['type']['name'] in ('Carry', 'Shot', 'Pass', 'Ball Receipt*')) and (event_to_check['team']['name'] != attacking_team):\n",
    "            attacks.append(events_json[index+1:shot['index']])\n",
    "            flag = False\n",
    "        else:\n",
    "            index = index-1\n"
   ]
  },
  {
   "cell_type": "code",
   "execution_count": 99,
   "id": "4d0c9f41-60fe-422b-8090-6757c85da39c",
   "metadata": {
    "tags": []
   },
   "outputs": [],
   "source": [
    "attacks_df_list = []\n",
    "for attack in attacks:\n",
    "    attacks_df_list.append(json_normalize(attack))\n",
    "\n",
    "attacks_df = pd.concat(attacks_df_list)"
   ]
  },
  {
   "cell_type": "code",
   "execution_count": 63,
   "id": "c2f53a91-2dd4-4379-8ea7-2d1cb6c85984",
   "metadata": {
    "tags": []
   },
   "outputs": [
    {
     "data": {
      "text/plain": [
       "array(['Regular Play'], dtype=object)"
      ]
     },
     "execution_count": 63,
     "metadata": {},
     "output_type": "execute_result"
    }
   ],
   "source": [
    "attacks_df['play_pattern.name'].unique()"
   ]
  },
  {
   "cell_type": "code",
   "execution_count": 64,
   "id": "3ea7e4e8-41cd-43d8-9b3c-248e61e24c90",
   "metadata": {
    "tags": []
   },
   "outputs": [
    {
     "data": {
      "text/plain": [
       "type.name\n",
       "Pass              119\n",
       "Ball Receipt*     118\n",
       "Carry             118\n",
       "Pressure           38\n",
       "Shot               13\n",
       "Ball Recovery      11\n",
       "Duel                9\n",
       "Dispossessed        7\n",
       "Block               4\n",
       "Dribble             2\n",
       "Dribbled Past       2\n",
       "Interception        2\n",
       "Miscontrol          2\n",
       "Foul Committed      1\n",
       "Foul Won            1\n",
       "Goal Keeper         1\n",
       "Name: index, dtype: int64"
      ]
     },
     "execution_count": 64,
     "metadata": {},
     "output_type": "execute_result"
    }
   ],
   "source": [
    "attacks_df.groupby('type.name')['index'].count().nlargest(20)"
   ]
  },
  {
   "cell_type": "code",
   "execution_count": 112,
   "id": "3d4bf32d-b7b0-4b08-a6df-edb640e562f7",
   "metadata": {
    "tags": []
   },
   "outputs": [
    {
     "name": "stdout",
     "output_type": "stream",
     "text": [
      "carry.end_location\n"
     ]
    }
   ],
   "source": [
    "find_col(events, 'carry')"
   ]
  },
  {
   "cell_type": "code",
   "execution_count": 147,
   "id": "1b40a2e2-cc37-430e-8ad9-4af62cbdc150",
   "metadata": {
    "tags": []
   },
   "outputs": [],
   "source": [
    "df = attacks_df_list[0]\n",
    "def generate_locations(df):\n",
    "    categories = ['Pass', 'Shot', 'Dribble', 'Carry']\n",
    "    df = df.loc[df['type.name'].isin(categories)]\n",
    "    df['end_location'] = df['location'].shift(-1)\n",
    "    df['end_location'] = df.apply(lambda x: x['shot.end_location'][:-1] if x['type.name'] == 'Shot' else x['end_location'], axis=1)\n",
    "    locations = pd.DataFrame()\n",
    "    locations['x_start'] = df['location'].apply(lambda x: x[0])\n",
    "    locations['y_start'] = df['location'].apply(lambda x: x[1])\n",
    "    locations['x_end'] = df['end_location'].apply(lambda x: x[0])\n",
    "    locations['y_end'] = df['end_location'].apply(lambda x: x[1])\n",
    "    p = Pitch(pitch_type = 'statsbomb')\n",
    "    fig, ax = p.draw(figsize(8,8))\n",
    "    p.scatter(x=locations['x_start'], y =locations['y_start'],ax=ax)\n",
    "    p.lines(xstart=locations['x_start'], ystart=locations['y_start'], xend = locations['x_end'], yend= locations['y_end'],ax=ax)\n",
    "    for i, row in locations.iterrows():\n",
    "        plt.annotate(i, (row['x_start'], row['y_start']), ha= 'center')\n",
    "    plt.show()\n"
   ]
  },
  {
   "cell_type": "code",
   "execution_count": 151,
   "id": "7255f891-5f86-4de5-874b-e74b84e97747",
   "metadata": {
    "tags": []
   },
   "outputs": [
    {
     "name": "stderr",
     "output_type": "stream",
     "text": [
      "/var/folders/6z/6kv7kn152951p7cb0_qkss1c0000gn/T/ipykernel_50272/1988678264.py:5: SettingWithCopyWarning: \n",
      "A value is trying to be set on a copy of a slice from a DataFrame.\n",
      "Try using .loc[row_indexer,col_indexer] = value instead\n",
      "\n",
      "See the caveats in the documentation: https://pandas.pydata.org/pandas-docs/stable/user_guide/indexing.html#returning-a-view-versus-a-copy\n",
      "  df['end_location'] = df['location'].shift(-1)\n",
      "/var/folders/6z/6kv7kn152951p7cb0_qkss1c0000gn/T/ipykernel_50272/1988678264.py:6: SettingWithCopyWarning: \n",
      "A value is trying to be set on a copy of a slice from a DataFrame.\n",
      "Try using .loc[row_indexer,col_indexer] = value instead\n",
      "\n",
      "See the caveats in the documentation: https://pandas.pydata.org/pandas-docs/stable/user_guide/indexing.html#returning-a-view-versus-a-copy\n",
      "  df['end_location'] = df.apply(lambda x: x['shot.end_location'][:-1] if x['type.name'] == 'Shot' else x['end_location'], axis=1)\n"
     ]
    }
   ],
   "source": [
    "generate_locations(df)"
   ]
  },
  {
   "cell_type": "code",
   "execution_count": 116,
   "id": "37563f89-8f8a-4316-a9a8-ce2b42b224dd",
   "metadata": {
    "tags": []
   },
   "outputs": [
    {
     "name": "stdout",
     "output_type": "stream",
     "text": [
      "pass.assisted_shot_id\n",
      "pass.shot_assist\n",
      "shot.statsbomb_xg\n",
      "shot.end_location\n",
      "shot.key_pass_id\n",
      "shot.type.id\n",
      "shot.type.name\n",
      "shot.outcome.id\n",
      "shot.outcome.name\n",
      "shot.first_time\n",
      "shot.technique.id\n",
      "shot.technique.name\n",
      "shot.body_part.id\n",
      "shot.body_part.name\n",
      "shot.freeze_frame\n",
      "shot.aerial_won\n",
      "shot.one_on_one\n"
     ]
    }
   ],
   "source": [
    "find_col(events, 'shot')"
   ]
  },
  {
   "cell_type": "code",
   "execution_count": 100,
   "id": "0331523e-b8ab-4e73-b6a4-bd27b0243b01",
   "metadata": {
    "tags": []
   },
   "outputs": [
    {
     "name": "stdout",
     "output_type": "stream",
     "text": [
      "    index      type.name play_pattern.name   team.name possession_team.name\n",
      "0     219          Block      Regular Play  Hoffenheim           Hoffenheim\n",
      "1     220          Block      Regular Play  Schalke 04           Hoffenheim\n",
      "2     221  Ball Recovery      Regular Play  Hoffenheim           Hoffenheim\n",
      "3     222          Carry      Regular Play  Hoffenheim           Hoffenheim\n",
      "4     223           Pass      Regular Play  Hoffenheim           Hoffenheim\n",
      "5     224  Ball Receipt*      Regular Play  Hoffenheim           Hoffenheim\n",
      "6     225          Carry      Regular Play  Hoffenheim           Hoffenheim\n",
      "7     226       Pressure      Regular Play  Schalke 04           Hoffenheim\n",
      "8     227           Pass      Regular Play  Hoffenheim           Hoffenheim\n",
      "9     228  Ball Receipt*      Regular Play  Hoffenheim           Hoffenheim\n",
      "10    229          Carry      Regular Play  Hoffenheim           Hoffenheim\n",
      "11    230           Pass      Regular Play  Hoffenheim           Hoffenheim\n",
      "12    231  Ball Receipt*      Regular Play  Hoffenheim           Hoffenheim\n",
      "13    232          Carry      Regular Play  Hoffenheim           Hoffenheim\n",
      "14    233           Pass      Regular Play  Hoffenheim           Hoffenheim\n",
      "15    234  Ball Receipt*      Regular Play  Hoffenheim           Hoffenheim\n",
      "16    235          Carry      Regular Play  Hoffenheim           Hoffenheim\n",
      "17    236           Pass      Regular Play  Hoffenheim           Hoffenheim\n",
      "18    237  Ball Receipt*      Regular Play  Hoffenheim           Hoffenheim\n",
      "19    238          Carry      Regular Play  Hoffenheim           Hoffenheim\n",
      "20    239           Pass      Regular Play  Hoffenheim           Hoffenheim\n",
      "21    240  Ball Receipt*      Regular Play  Hoffenheim           Hoffenheim\n",
      "22    241          Carry      Regular Play  Hoffenheim           Hoffenheim\n",
      "23    242           Pass      Regular Play  Hoffenheim           Hoffenheim\n",
      "24    243  Ball Receipt*      Regular Play  Hoffenheim           Hoffenheim\n",
      "25    244          Carry      Regular Play  Hoffenheim           Hoffenheim\n",
      "26    245           Pass      Regular Play  Hoffenheim           Hoffenheim\n",
      "27    246  Ball Receipt*      Regular Play  Hoffenheim           Hoffenheim\n",
      "28    247          Carry      Regular Play  Hoffenheim           Hoffenheim\n",
      "29    248           Pass      Regular Play  Hoffenheim           Hoffenheim\n",
      "30    249  Ball Receipt*      Regular Play  Hoffenheim           Hoffenheim\n",
      "31    250          Carry      Regular Play  Hoffenheim           Hoffenheim\n",
      "32    251           Pass      Regular Play  Hoffenheim           Hoffenheim\n",
      "33    252  Ball Receipt*      Regular Play  Hoffenheim           Hoffenheim\n",
      "34    253          Carry      Regular Play  Hoffenheim           Hoffenheim\n",
      "35    254       Pressure      Regular Play  Schalke 04           Hoffenheim\n",
      "36    255           Pass      Regular Play  Hoffenheim           Hoffenheim\n",
      "37    256  Ball Receipt*      Regular Play  Hoffenheim           Hoffenheim\n",
      "38    257          Carry      Regular Play  Hoffenheim           Hoffenheim\n",
      "39    258           Pass      Regular Play  Hoffenheim           Hoffenheim\n",
      "40    259  Ball Receipt*      Regular Play  Hoffenheim           Hoffenheim\n",
      "41    260          Carry      Regular Play  Hoffenheim           Hoffenheim\n",
      "42    261           Pass      Regular Play  Hoffenheim           Hoffenheim\n",
      "43    262  Ball Receipt*      Regular Play  Hoffenheim           Hoffenheim\n",
      "44    263           Shot      Regular Play  Hoffenheim           Hoffenheim\n",
      "    index      type.name play_pattern.name   team.name possession_team.name\n",
      "0     727           Pass      Regular Play  Schalke 04           Schalke 04\n",
      "1     728       Pressure      Regular Play  Hoffenheim           Schalke 04\n",
      "2     729  Ball Receipt*      Regular Play  Schalke 04           Schalke 04\n",
      "3     730          Carry      Regular Play  Schalke 04           Schalke 04\n",
      "4     731           Pass      Regular Play  Schalke 04           Schalke 04\n",
      "5     732  Ball Receipt*      Regular Play  Schalke 04           Schalke 04\n",
      "6     733          Carry      Regular Play  Schalke 04           Schalke 04\n",
      "7     734           Pass      Regular Play  Schalke 04           Schalke 04\n",
      "8     735  Ball Receipt*      Regular Play  Schalke 04           Schalke 04\n",
      "9     736          Carry      Regular Play  Schalke 04           Schalke 04\n",
      "10    737          Block      Regular Play  Hoffenheim           Schalke 04\n",
      "11    738           Pass      Regular Play  Schalke 04           Schalke 04\n",
      "12    739  Ball Receipt*      Regular Play  Schalke 04           Schalke 04\n",
      "13    740           Pass      Regular Play  Schalke 04           Schalke 04\n",
      "14    741  Ball Receipt*      Regular Play  Schalke 04           Schalke 04\n",
      "15    742          Carry      Regular Play  Schalke 04           Schalke 04\n",
      "16    743           Pass      Regular Play  Schalke 04           Schalke 04\n",
      "17    744  Ball Receipt*      Regular Play  Schalke 04           Schalke 04\n",
      "18    745          Carry      Regular Play  Schalke 04           Schalke 04\n",
      "19    746           Pass      Regular Play  Schalke 04           Schalke 04\n",
      "20    747  Ball Receipt*      Regular Play  Schalke 04           Schalke 04\n",
      "21    748          Carry      Regular Play  Schalke 04           Schalke 04\n",
      "22    749           Shot      Regular Play  Schalke 04           Schalke 04\n",
      "    index      type.name play_pattern.name   team.name possession_team.name\n",
      "0    1809  Ball Recovery      Regular Play  Hoffenheim           Hoffenheim\n",
      "1    1810          Carry      Regular Play  Hoffenheim           Hoffenheim\n",
      "2    1811           Pass      Regular Play  Hoffenheim           Hoffenheim\n",
      "3    1812  Ball Receipt*      Regular Play  Hoffenheim           Hoffenheim\n",
      "4    1813          Carry      Regular Play  Hoffenheim           Hoffenheim\n",
      "5    1814           Pass      Regular Play  Hoffenheim           Hoffenheim\n",
      "6    1815  Ball Receipt*      Regular Play  Hoffenheim           Hoffenheim\n",
      "7    1816          Carry      Regular Play  Hoffenheim           Hoffenheim\n",
      "8    1817           Pass      Regular Play  Hoffenheim           Hoffenheim\n",
      "9    1818  Ball Receipt*      Regular Play  Hoffenheim           Hoffenheim\n",
      "10   1819          Carry      Regular Play  Hoffenheim           Hoffenheim\n",
      "11   1820           Shot      Regular Play  Hoffenheim           Hoffenheim\n",
      "    index      type.name play_pattern.name   team.name possession_team.name\n",
      "0    2085        Dribble       From Keeper  Schalke 04           Schalke 04\n",
      "1    2086           Duel      Regular Play  Hoffenheim           Hoffenheim\n",
      "2    2087          Carry      Regular Play  Hoffenheim           Hoffenheim\n",
      "3    2088           Pass      Regular Play  Hoffenheim           Hoffenheim\n",
      "4    2089  Ball Receipt*      Regular Play  Hoffenheim           Hoffenheim\n",
      "5    2090          Carry      Regular Play  Hoffenheim           Hoffenheim\n",
      "6    2091           Pass      Regular Play  Hoffenheim           Hoffenheim\n",
      "7    2092  Ball Receipt*      Regular Play  Hoffenheim           Hoffenheim\n",
      "8    2093          Carry      Regular Play  Hoffenheim           Hoffenheim\n",
      "9    2094           Pass      Regular Play  Hoffenheim           Hoffenheim\n",
      "10   2095  Ball Receipt*      Regular Play  Hoffenheim           Hoffenheim\n",
      "11   2096          Carry      Regular Play  Hoffenheim           Hoffenheim\n",
      "12   2097       Pressure      Regular Play  Schalke 04           Hoffenheim\n",
      "13   2098   Dispossessed      Regular Play  Hoffenheim           Hoffenheim\n",
      "14   2099           Duel      Regular Play  Schalke 04           Hoffenheim\n",
      "15   2100       Pressure      Regular Play  Schalke 04           Hoffenheim\n",
      "16   2101           Pass      Regular Play  Hoffenheim           Hoffenheim\n",
      "17   2102  Ball Receipt*      Regular Play  Hoffenheim           Hoffenheim\n",
      "18   2103          Carry      Regular Play  Hoffenheim           Hoffenheim\n",
      "19   2104           Pass      Regular Play  Hoffenheim           Hoffenheim\n",
      "20   2105  Ball Receipt*      Regular Play  Hoffenheim           Hoffenheim\n",
      "21   2106          Carry      Regular Play  Hoffenheim           Hoffenheim\n",
      "22   2107           Pass      Regular Play  Hoffenheim           Hoffenheim\n",
      "23   2108       Pressure      Regular Play  Schalke 04           Hoffenheim\n",
      "24   2109  Ball Receipt*      Regular Play  Hoffenheim           Hoffenheim\n",
      "25   2110          Carry      Regular Play  Hoffenheim           Hoffenheim\n",
      "26   2111           Pass      Regular Play  Hoffenheim           Hoffenheim\n",
      "27   2112  Ball Receipt*      Regular Play  Hoffenheim           Hoffenheim\n",
      "28   2113          Carry      Regular Play  Hoffenheim           Hoffenheim\n",
      "29   2114       Pressure      Regular Play  Schalke 04           Hoffenheim\n",
      "30   2115           Shot      Regular Play  Hoffenheim           Hoffenheim\n",
      "   index type.name play_pattern.name   team.name possession_team.name\n",
      "0   2149  Pressure      Regular Play  Schalke 04           Schalke 04\n",
      "1   2150      Shot      Regular Play  Hoffenheim           Schalke 04\n",
      "   index      type.name play_pattern.name   team.name possession_team.name\n",
      "0   2351   Dispossessed      Regular Play  Hoffenheim           Schalke 04\n",
      "1   2352           Duel      Regular Play  Schalke 04           Schalke 04\n",
      "2   2353          Carry      Regular Play  Schalke 04           Schalke 04\n",
      "3   2354           Pass      Regular Play  Schalke 04           Schalke 04\n",
      "4   2355  Ball Receipt*      Regular Play  Schalke 04           Schalke 04\n",
      "5   2356          Carry      Regular Play  Schalke 04           Schalke 04\n",
      "6   2357           Shot      Regular Play  Schalke 04           Schalke 04\n",
      "    index      type.name play_pattern.name   team.name possession_team.name\n",
      "0    2673           Pass      Regular Play  Schalke 04           Schalke 04\n",
      "1    2674  Ball Receipt*      Regular Play  Schalke 04           Schalke 04\n",
      "2    2675          Carry      Regular Play  Schalke 04           Schalke 04\n",
      "3    2676           Pass      Regular Play  Schalke 04           Schalke 04\n",
      "4    2677  Ball Receipt*      Regular Play  Schalke 04           Schalke 04\n",
      "5    2678          Carry      Regular Play  Schalke 04           Schalke 04\n",
      "6    2679           Pass      Regular Play  Schalke 04           Schalke 04\n",
      "7    2680  Ball Receipt*      Regular Play  Schalke 04           Schalke 04\n",
      "8    2681          Carry      Regular Play  Schalke 04           Schalke 04\n",
      "9    2682           Pass      Regular Play  Schalke 04           Schalke 04\n",
      "10   2683  Ball Receipt*      Regular Play  Schalke 04           Schalke 04\n",
      "11   2684          Carry      Regular Play  Schalke 04           Schalke 04\n",
      "12   2685           Pass      Regular Play  Schalke 04           Schalke 04\n",
      "13   2686  Ball Receipt*      Regular Play  Schalke 04           Schalke 04\n",
      "14   2687          Carry      Regular Play  Schalke 04           Schalke 04\n",
      "15   2688           Pass      Regular Play  Schalke 04           Schalke 04\n",
      "16   2689  Ball Receipt*      Regular Play  Schalke 04           Schalke 04\n",
      "17   2690          Carry      Regular Play  Schalke 04           Schalke 04\n",
      "18   2691           Pass      Regular Play  Schalke 04           Schalke 04\n",
      "19   2692  Ball Receipt*      Regular Play  Schalke 04           Schalke 04\n",
      "20   2693          Carry      Regular Play  Schalke 04           Schalke 04\n",
      "21   2694           Pass      Regular Play  Schalke 04           Schalke 04\n",
      "22   2695  Ball Receipt*      Regular Play  Schalke 04           Schalke 04\n",
      "23   2696          Carry      Regular Play  Schalke 04           Schalke 04\n",
      "24   2697           Pass      Regular Play  Schalke 04           Schalke 04\n",
      "25   2698  Ball Receipt*      Regular Play  Schalke 04           Schalke 04\n",
      "26   2699          Carry      Regular Play  Schalke 04           Schalke 04\n",
      "27   2700           Pass      Regular Play  Schalke 04           Schalke 04\n",
      "28   2701  Ball Receipt*      Regular Play  Schalke 04           Schalke 04\n",
      "29   2702           Pass      Regular Play  Schalke 04           Schalke 04\n",
      "30   2703  Ball Receipt*      Regular Play  Schalke 04           Schalke 04\n",
      "31   2704           Pass      Regular Play  Schalke 04           Schalke 04\n",
      "32   2705       Pressure      Regular Play  Hoffenheim           Schalke 04\n",
      "33   2706  Ball Receipt*      Regular Play  Schalke 04           Schalke 04\n",
      "34   2707           Pass      Regular Play  Schalke 04           Schalke 04\n",
      "35   2708  Ball Receipt*      Regular Play  Schalke 04           Schalke 04\n",
      "36   2709           Pass      Regular Play  Schalke 04           Schalke 04\n",
      "37   2710  Ball Receipt*      Regular Play  Schalke 04           Schalke 04\n",
      "38   2711          Carry      Regular Play  Schalke 04           Schalke 04\n",
      "39   2712           Pass      Regular Play  Schalke 04           Schalke 04\n",
      "40   2713  Ball Receipt*      Regular Play  Schalke 04           Schalke 04\n",
      "41   2714          Carry      Regular Play  Schalke 04           Schalke 04\n",
      "42   2715       Pressure      Regular Play  Hoffenheim           Schalke 04\n",
      "43   2716           Shot      Regular Play  Schalke 04           Schalke 04\n",
      "    index      type.name play_pattern.name   team.name possession_team.name\n",
      "0    2724       Pressure      Regular Play  Schalke 04           Schalke 04\n",
      "1    2725   Dispossessed      Regular Play  Hoffenheim           Schalke 04\n",
      "2    2726           Duel      Regular Play  Schalke 04           Schalke 04\n",
      "3    2727          Carry      Regular Play  Schalke 04           Schalke 04\n",
      "4    2728           Pass      Regular Play  Schalke 04           Schalke 04\n",
      "5    2729  Ball Receipt*      Regular Play  Schalke 04           Schalke 04\n",
      "6    2730           Pass      Regular Play  Schalke 04           Schalke 04\n",
      "7    2731  Ball Receipt*      Regular Play  Schalke 04           Schalke 04\n",
      "8    2732          Carry      Regular Play  Schalke 04           Schalke 04\n",
      "9    2733           Pass      Regular Play  Schalke 04           Schalke 04\n",
      "10   2734  Ball Receipt*      Regular Play  Schalke 04           Schalke 04\n",
      "11   2735          Carry      Regular Play  Schalke 04           Schalke 04\n",
      "12   2736           Pass      Regular Play  Schalke 04           Schalke 04\n",
      "13   2737       Pressure      Regular Play  Hoffenheim           Schalke 04\n",
      "14   2738  Ball Receipt*      Regular Play  Schalke 04           Schalke 04\n",
      "15   2739          Carry      Regular Play  Schalke 04           Schalke 04\n",
      "16   2740           Pass      Regular Play  Schalke 04           Schalke 04\n",
      "17   2741  Ball Receipt*      Regular Play  Schalke 04           Schalke 04\n",
      "18   2742          Carry      Regular Play  Schalke 04           Schalke 04\n",
      "19   2743           Pass      Regular Play  Schalke 04           Schalke 04\n",
      "20   2744  Ball Receipt*      Regular Play  Schalke 04           Schalke 04\n",
      "21   2745          Carry      Regular Play  Schalke 04           Schalke 04\n",
      "22   2746           Pass      Regular Play  Schalke 04           Schalke 04\n",
      "23   2747  Ball Receipt*      Regular Play  Schalke 04           Schalke 04\n",
      "24   2748          Carry      Regular Play  Schalke 04           Schalke 04\n",
      "25   2749           Shot      Regular Play  Schalke 04           Schalke 04\n",
      "    index      type.name play_pattern.name   team.name possession_team.name\n",
      "0    3045           Duel    From Goal Kick  Schalke 04           Schalke 04\n",
      "1    3046           Pass      Regular Play  Hoffenheim           Hoffenheim\n",
      "2    3047  Ball Receipt*      Regular Play  Hoffenheim           Hoffenheim\n",
      "3    3048          Carry      Regular Play  Hoffenheim           Hoffenheim\n",
      "4    3049           Pass      Regular Play  Hoffenheim           Hoffenheim\n",
      "5    3050       Pressure      Regular Play  Schalke 04           Hoffenheim\n",
      "6    3051  Ball Receipt*      Regular Play  Hoffenheim           Hoffenheim\n",
      "7    3052          Carry      Regular Play  Hoffenheim           Hoffenheim\n",
      "8    3053           Pass      Regular Play  Hoffenheim           Hoffenheim\n",
      "9    3054  Ball Receipt*      Regular Play  Hoffenheim           Hoffenheim\n",
      "10   3055          Carry      Regular Play  Hoffenheim           Hoffenheim\n",
      "11   3056           Pass      Regular Play  Hoffenheim           Hoffenheim\n",
      "12   3057       Pressure      Regular Play  Schalke 04           Hoffenheim\n",
      "13   3058  Ball Receipt*      Regular Play  Hoffenheim           Hoffenheim\n",
      "14   3059           Shot      Regular Play  Hoffenheim           Hoffenheim\n",
      "    index      type.name play_pattern.name   team.name possession_team.name\n",
      "0    3473       Pressure    From Free Kick  Hoffenheim           Schalke 04\n",
      "1    3474   Dispossessed    From Free Kick  Schalke 04           Schalke 04\n",
      "2    3475           Duel      Regular Play  Hoffenheim           Hoffenheim\n",
      "3    3476           Pass      Regular Play  Hoffenheim           Hoffenheim\n",
      "4    3477  Ball Receipt*      Regular Play  Hoffenheim           Hoffenheim\n",
      "5    3478          Carry      Regular Play  Hoffenheim           Hoffenheim\n",
      "6    3479           Pass      Regular Play  Hoffenheim           Hoffenheim\n",
      "7    3480  Ball Receipt*      Regular Play  Hoffenheim           Hoffenheim\n",
      "8    3481          Carry      Regular Play  Hoffenheim           Hoffenheim\n",
      "9    3482       Pressure      Regular Play  Schalke 04           Hoffenheim\n",
      "10   3483           Shot      Regular Play  Hoffenheim           Hoffenheim\n",
      "    index      type.name play_pattern.name   team.name possession_team.name\n",
      "0    3688   Interception      Regular Play  Schalke 04           Schalke 04\n",
      "1    3689          Carry      Regular Play  Schalke 04           Schalke 04\n",
      "2    3690           Pass      Regular Play  Schalke 04           Schalke 04\n",
      "3    3691  Ball Receipt*      Regular Play  Schalke 04           Schalke 04\n",
      "4    3692          Carry      Regular Play  Schalke 04           Schalke 04\n",
      "5    3693           Pass      Regular Play  Schalke 04           Schalke 04\n",
      "6    3694  Ball Receipt*      Regular Play  Schalke 04           Schalke 04\n",
      "7    3695          Carry      Regular Play  Schalke 04           Schalke 04\n",
      "8    3696       Pressure      Regular Play  Hoffenheim           Schalke 04\n",
      "9    3697           Pass      Regular Play  Schalke 04           Schalke 04\n",
      "10   3698  Ball Receipt*      Regular Play  Schalke 04           Schalke 04\n",
      "11   3699          Carry      Regular Play  Schalke 04           Schalke 04\n",
      "12   3700           Pass      Regular Play  Schalke 04           Schalke 04\n",
      "13   3701  Ball Receipt*      Regular Play  Schalke 04           Schalke 04\n",
      "14   3702          Carry      Regular Play  Schalke 04           Schalke 04\n",
      "15   3703           Pass      Regular Play  Schalke 04           Schalke 04\n",
      "16   3704  Ball Receipt*      Regular Play  Schalke 04           Schalke 04\n",
      "17   3705          Carry      Regular Play  Schalke 04           Schalke 04\n",
      "18   3706           Pass      Regular Play  Schalke 04           Schalke 04\n",
      "19   3707  Ball Receipt*      Regular Play  Schalke 04           Schalke 04\n",
      "20   3708          Carry      Regular Play  Schalke 04           Schalke 04\n",
      "21   3709           Pass      Regular Play  Schalke 04           Schalke 04\n",
      "22   3710  Ball Receipt*      Regular Play  Schalke 04           Schalke 04\n",
      "23   3711          Carry      Regular Play  Schalke 04           Schalke 04\n",
      "24   3712           Pass      Regular Play  Schalke 04           Schalke 04\n",
      "25   3713  Ball Receipt*      Regular Play  Schalke 04           Schalke 04\n",
      "26   3714          Carry      Regular Play  Schalke 04           Schalke 04\n",
      "27   3715           Pass      Regular Play  Schalke 04           Schalke 04\n",
      "28   3716  Ball Receipt*      Regular Play  Schalke 04           Schalke 04\n",
      "29   3717           Pass      Regular Play  Schalke 04           Schalke 04\n",
      "30   3718  Ball Receipt*      Regular Play  Schalke 04           Schalke 04\n",
      "31   3719          Carry      Regular Play  Schalke 04           Schalke 04\n",
      "32   3720           Pass      Regular Play  Schalke 04           Schalke 04\n",
      "33   3721  Ball Receipt*      Regular Play  Schalke 04           Schalke 04\n",
      "34   3722          Carry      Regular Play  Schalke 04           Schalke 04\n",
      "35   3723           Pass      Regular Play  Schalke 04           Schalke 04\n",
      "36   3724  Ball Receipt*      Regular Play  Schalke 04           Schalke 04\n",
      "37   3725          Carry      Regular Play  Schalke 04           Schalke 04\n",
      "38   3726           Pass      Regular Play  Schalke 04           Schalke 04\n",
      "39   3727  Ball Receipt*      Regular Play  Schalke 04           Schalke 04\n",
      "40   3728          Carry      Regular Play  Schalke 04           Schalke 04\n",
      "41   3729           Shot      Regular Play  Schalke 04           Schalke 04\n",
      "    index      type.name play_pattern.name   team.name possession_team.name\n",
      "0    3797      Clearance    From Free Kick  Hoffenheim           Schalke 04\n",
      "1    3798  Ball Recovery      Regular Play  Hoffenheim           Hoffenheim\n",
      "2    3799          Carry      Regular Play  Hoffenheim           Hoffenheim\n",
      "3    3800           Pass      Regular Play  Hoffenheim           Hoffenheim\n",
      "4    3801  Ball Receipt*      Regular Play  Hoffenheim           Hoffenheim\n",
      "5    3802          Carry      Regular Play  Hoffenheim           Hoffenheim\n",
      "6    3803       Pressure      Regular Play  Schalke 04           Hoffenheim\n",
      "7    3804           Pass      Regular Play  Hoffenheim           Hoffenheim\n",
      "8    3805  Ball Receipt*      Regular Play  Hoffenheim           Hoffenheim\n",
      "9    3806          Carry      Regular Play  Hoffenheim           Hoffenheim\n",
      "10   3807           Pass      Regular Play  Hoffenheim           Hoffenheim\n",
      "11   3808  Ball Receipt*      Regular Play  Hoffenheim           Hoffenheim\n",
      "12   3809          Carry      Regular Play  Hoffenheim           Hoffenheim\n",
      "13   3810           Pass      Regular Play  Hoffenheim           Hoffenheim\n",
      "14   3811  Ball Receipt*      Regular Play  Hoffenheim           Hoffenheim\n",
      "15   3812          Carry      Regular Play  Hoffenheim           Hoffenheim\n",
      "16   3813           Pass      Regular Play  Hoffenheim           Hoffenheim\n",
      "17   3814  Ball Receipt*      Regular Play  Hoffenheim           Hoffenheim\n",
      "18   3815          Carry      Regular Play  Hoffenheim           Hoffenheim\n",
      "19   3816           Pass      Regular Play  Hoffenheim           Hoffenheim\n",
      "20   3817  Ball Receipt*      Regular Play  Hoffenheim           Hoffenheim\n",
      "21   3818          Carry      Regular Play  Hoffenheim           Hoffenheim\n",
      "22   3819           Pass      Regular Play  Hoffenheim           Hoffenheim\n",
      "23   3820  Ball Receipt*      Regular Play  Hoffenheim           Hoffenheim\n",
      "24   3821          Carry      Regular Play  Hoffenheim           Hoffenheim\n",
      "25   3822           Shot      Regular Play  Hoffenheim           Hoffenheim\n"
     ]
    }
   ],
   "source": [
    "for attack in attacks_df_list:\n",
    "    #attacking_team = attack.loc[(attack['type.name'] == 'Shot')]['possession_team.name'].iloc[0]\n",
    "    print(attack[columns])"
   ]
  },
  {
   "cell_type": "code",
   "execution_count": 105,
   "id": "49b8ac42-9720-4220-8e9c-a25ac8d35624",
   "metadata": {
    "tags": []
   },
   "outputs": [
    {
     "data": {
      "text/plain": [
       "['Block',\n",
       " 'Ball Recovery',\n",
       " 'Carry',\n",
       " 'Pass',\n",
       " 'Ball Receipt*',\n",
       " 'Pressure',\n",
       " 'Shot',\n",
       " 'Dribble',\n",
       " 'Duel',\n",
       " 'Dispossessed',\n",
       " 'Interception',\n",
       " 'Clearance']"
      ]
     },
     "execution_count": 105,
     "metadata": {},
     "output_type": "execute_result"
    }
   ],
   "source": [
    "list(attacks_df['type.name'].unique())"
   ]
  },
  {
   "cell_type": "code",
   "execution_count": 127,
   "id": "d9547ce0-b286-45a5-9930-725271085ba9",
   "metadata": {
    "tags": []
   },
   "outputs": [
    {
     "data": {
      "text/plain": [
       "[120.0, 35.2, 1.0]"
      ]
     },
     "execution_count": 127,
     "metadata": {},
     "output_type": "execute_result"
    }
   ],
   "source": [
    "df.loc[df['type.name'] == 'Shot']['shot.end_location'].iloc[0]"
   ]
  },
  {
   "cell_type": "code",
   "execution_count": null,
   "id": "956cc762-2b2f-4396-b843-1a5b65821645",
   "metadata": {},
   "outputs": [],
   "source": []
  }
 ],
 "metadata": {
  "kernelspec": {
   "display_name": "Python 3 (ipykernel)",
   "language": "python",
   "name": "python3"
  },
  "language_info": {
   "codemirror_mode": {
    "name": "ipython",
    "version": 3
   },
   "file_extension": ".py",
   "mimetype": "text/x-python",
   "name": "python",
   "nbconvert_exporter": "python",
   "pygments_lexer": "ipython3",
   "version": "3.10.12"
  }
 },
 "nbformat": 4,
 "nbformat_minor": 5
}
